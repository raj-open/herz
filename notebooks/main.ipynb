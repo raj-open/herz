{
 "cells": [
  {
   "cell_type": "markdown",
   "metadata": {},
   "source": [
    "# Loops #\n",
    "\n",
    "In this script, time-series data is extracted from csv files, then combined to a plot.\n",
    "\n",
    "Configure settings in [setup/config.yaml](../setup/config.yaml). Cf. [template-config.yaml](../templates/template-config.yaml) for an example."
   ]
  },
  {
   "cell_type": "code",
   "execution_count": null,
   "metadata": {
    "tags": [
     "settings"
    ]
   },
   "outputs": [],
   "source": [
    "'''FORCE AUTORELOAD IMPORTS'''\n",
    "# see https://ipython.org/ipython-doc/3/config/extensions/autoreload.html\n",
    "%load_ext autoreload\n",
    "%autoreload 2"
   ]
  },
  {
   "cell_type": "code",
   "execution_count": null,
   "metadata": {
    "tags": [
     "imports"
    ]
   },
   "outputs": [],
   "source": [
    "'''IMPORTS'''\n",
    "import os\n",
    "import sys\n",
    "\n",
    "# NOTE: use this if the above reload commands do not work.\n",
    "for key in list(sys.modules.keys()):\n",
    "    if key.startswith('src.'):\n",
    "        del sys.modules[key]\n",
    "\n",
    "os.chdir(os.path.dirname(_dh[0]))\n",
    "sys.path.insert(0, os.getcwd())\n",
    "\n",
    "from src.thirdparty.render import *\n",
    "\n",
    "from src.setup import config\n",
    "from src.steps import *"
   ]
  },
  {
   "cell_type": "code",
   "execution_count": null,
   "metadata": {
    "tags": [
     "step"
    ]
   },
   "outputs": [],
   "source": [
    "'''SETUP'''\n",
    "PATH_USER_CONFIG = 'setup/config.yaml'\n",
    "config.set_user_config(PATH_USER_CONFIG);"
   ]
  },
  {
   "cell_type": "code",
   "execution_count": null,
   "metadata": {
    "tags": [
     "step"
    ]
   },
   "outputs": [],
   "source": [
    "'''READ AND COMBINE DATA'''\n",
    "data_pressure, data_volume = step_read_data()\n",
    "data = step_combine_data(data_pressure, data_volume)\n",
    "del data_pressure, data_volume;"
   ]
  },
  {
   "cell_type": "code",
   "execution_count": null,
   "metadata": {
    "tags": [
     "step"
    ]
   },
   "outputs": [],
   "source": [
    "'''PROCESS DATA'''\n",
    "# NOTE: determine cycles based on pressure-peaks\n",
    "data = step_compute_extremes(data, quantities=['pressure', 'volume'])\n",
    "data = step_recognise_cycles(data, quantity='pressure')\n",
    "if config.PROCESS_CONFIG.cycles.remove_bad:\n",
    "    data = step_removed_marked_sections(data)\n",
    "data = step_fit_curve(data, quantity='pressure');"
   ]
  },
  {
   "cell_type": "code",
   "execution_count": null,
   "metadata": {
    "tags": [
     "step",
     "table"
    ]
   },
   "outputs": [],
   "source": [
    "'''OUTPUT TABLES'''\n",
    "step_output_tables(data);"
   ]
  },
  {
   "cell_type": "code",
   "execution_count": null,
   "metadata": {
    "tags": [
     "step",
     "plot"
    ]
   },
   "outputs": [],
   "source": [
    "'''OUTPUT TIME PLOTS'''\n",
    "plt_p, plt_v = step_output_time_plots(data)\n",
    "display(plt_p)\n",
    "display(plt_v);"
   ]
  },
  {
   "cell_type": "code",
   "execution_count": null,
   "metadata": {
    "tags": [
     "step",
     "plot"
    ]
   },
   "outputs": [],
   "source": [
    "'''OUTPUT LOOP PLOTS'''\n",
    "plt = step_output_loop_plot(data)\n",
    "display(plt);"
   ]
  }
 ],
 "metadata": {
  "kernelspec": {
   "display_name": "Python 3",
   "language": "python",
   "name": "python3"
  },
  "language_info": {
   "codemirror_mode": {
    "name": "ipython",
    "version": 3
   },
   "file_extension": ".py",
   "mimetype": "text/x-python",
   "name": "python",
   "nbconvert_exporter": "python",
   "pygments_lexer": "ipython3",
   "version": "3.11.2"
  }
 },
 "nbformat": 4,
 "nbformat_minor": 2
}
