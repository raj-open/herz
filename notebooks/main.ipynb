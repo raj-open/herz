{
 "cells": [
  {
   "cell_type": "markdown",
   "metadata": {},
   "source": [
    "# Loops #\n",
    "\n",
    "In this script, time-series data is extracted from csv files, then combined to a plot.\n",
    "\n",
    "Configure settings in [setup/config.yaml](../setup/config.yaml). Cf. [template-config.yaml](../templates/template-config.yaml) for an example."
   ]
  },
  {
   "cell_type": "code",
   "execution_count": null,
   "metadata": {
    "tags": [
     "settings"
    ]
   },
   "outputs": [],
   "source": [
    "'''FORCE AUTORELOAD IMPORTS'''\n",
    "# see https://ipython.org/ipython-doc/3/config/extensions/autoreload.html\n",
    "%load_ext autoreload\n",
    "%autoreload 2"
   ]
  },
  {
   "cell_type": "code",
   "execution_count": null,
   "metadata": {
    "tags": [
     "imports"
    ]
   },
   "outputs": [],
   "source": [
    "'''IMPORTS'''\n",
    "import os\n",
    "import sys\n",
    "\n",
    "# NOTE: use this if the above reload commands do not work.\n",
    "for key in list(sys.modules.keys()):\n",
    "    if key.startswith('src.'):\n",
    "        del sys.modules[key]\n",
    "\n",
    "os.chdir(os.path.dirname(_dh[0]))\n",
    "sys.path.insert(0, os.getcwd())\n",
    "\n",
    "from src.thirdparty.render import *\n",
    "\n",
    "from src.setup import config\n",
    "from src.steps import *"
   ]
  },
  {
   "cell_type": "code",
   "execution_count": null,
   "metadata": {
    "tags": [
     "step"
    ]
   },
   "outputs": [],
   "source": [
    "'''SETUP'''\n",
    "PATH_USER_CONFIG = 'setup/config.yaml'\n",
    "config.set_user_config(PATH_USER_CONFIG);"
   ]
  },
  {
   "cell_type": "code",
   "execution_count": null,
   "metadata": {},
   "outputs": [],
   "source": [
    "'''CHOOSE A CASE'''\n",
    "# NOTE: Instead of this, one can loop over all cases.\n",
    "case = config.CASES[0]"
   ]
  },
  {
   "cell_type": "code",
   "execution_count": null,
   "metadata": {
    "tags": [
     "step"
    ]
   },
   "outputs": [],
   "source": [
    "'''READ AND PREFORMAT DATA'''\n",
    "data_p = step_read_data(case.data.pressure, quantity='pressure')\n",
    "data_p = step_normalise_data(case, data_p, quantity='pressure')\n",
    "data_v = step_read_data(case.data.volume, quantity='volume')\n",
    "data_v = step_normalise_data(case, data_v, quantity='volume')"
   ]
  },
  {
   "cell_type": "code",
   "execution_count": null,
   "metadata": {
    "tags": [
     "step"
    ]
   },
   "outputs": [],
   "source": [
    "'''PROCESS DATA'''\n",
    "# NOTE: determine cycles based on pressure-peaks\n",
    "data_p = step_compute_extremes(case, data_p, quantity='pressure')\n",
    "data_p = step_recognise_cycles(case, data_p, quantity='pressure')\n",
    "if case.process.cycles.remove_bad:\n",
    "    data_p = step_removed_marked_sections(case, data_p)\n",
    "data_p, coeff_p = step_fit_curve(case, data_p, quantity='pressure')\n",
    "\n",
    "data_v = step_compute_extremes(case, data_v, quantity='volume')\n",
    "data_v = step_recognise_cycles(case, data_v, quantity='volume')\n",
    "if case.process.cycles.remove_bad:\n",
    "    data_v = step_removed_marked_sections(case, data_v)\n",
    "data_v, coeff_p = step_fit_curve(case, data_v, quantity='volume')"
   ]
  },
  {
   "cell_type": "code",
   "execution_count": null,
   "metadata": {
    "tags": [
     "step",
     "table"
    ]
   },
   "outputs": [],
   "source": [
    "'''OUTPUT TABLES'''\n",
    "step_output_single_table(case, data_p, quantity='pressure')\n",
    "step_output_single_table(case, data_p, quantity='volume')"
   ]
  },
  {
   "cell_type": "code",
   "execution_count": null,
   "metadata": {
    "tags": [
     "step",
     "plot"
    ]
   },
   "outputs": [],
   "source": [
    "'''OUTPUT TIME PLOTS'''\n",
    "plt = step_output_time_plot(case, data_p, quantity='pressure', symb='P')\n",
    "display(plt)\n",
    "plt = step_output_time_plot(case, data_v, quantity='volume', symb='V')\n",
    "display(plt)"
   ]
  },
  {
   "cell_type": "code",
   "execution_count": null,
   "metadata": {
    "tags": [
     "step",
     "plot"
    ]
   },
   "outputs": [],
   "source": [
    "'''OUTPUT LOOP PLOTS'''\n",
    "# TODO"
   ]
  }
 ],
 "metadata": {
  "kernelspec": {
   "display_name": "Python 3",
   "language": "python",
   "name": "python3"
  },
  "language_info": {
   "codemirror_mode": {
    "name": "ipython",
    "version": 3
   },
   "file_extension": ".py",
   "mimetype": "text/x-python",
   "name": "python",
   "nbconvert_exporter": "python",
   "pygments_lexer": "ipython3",
   "version": "3.11.2"
  }
 },
 "nbformat": 4,
 "nbformat_minor": 2
}
